{
 "metadata": {
  "language_info": {
   "codemirror_mode": {
    "name": "ipython",
    "version": 3
   },
   "file_extension": ".py",
   "mimetype": "text/x-python",
   "name": "python",
   "nbconvert_exporter": "python",
   "pygments_lexer": "ipython3",
   "version": "3.7.5-final"
  },
  "orig_nbformat": 2,
  "kernelspec": {
   "name": "python375jvsc74a57bd028e29083dba6c505f2c0c3ef6a15213a3325434cd0dcd541212018311d29dc30",
   "display_name": "Python 3.7.5 64-bit"
  },
  "metadata": {
   "interpreter": {
    "hash": "28e29083dba6c505f2c0c3ef6a15213a3325434cd0dcd541212018311d29dc30"
   }
  }
 },
 "nbformat": 4,
 "nbformat_minor": 2,
 "cells": [
  {
   "cell_type": "code",
   "execution_count": 49,
   "metadata": {},
   "outputs": [],
   "source": [
    "import numpy as np\n",
    "import pandas as pd\n",
    "import itertools\n",
    "from scipy.special import ellipe"
   ]
  },
  {
   "cell_type": "code",
   "execution_count": 50,
   "metadata": {},
   "outputs": [],
   "source": [
    "f = np.math.factorial\n",
    "ratios = np.linspace(1.0, 10.0, num=21)\n",
    "b = np.linspace(1.0, 10.0, num=10)\n",
    "data = np.array(list(itertools.product(b, ratios)))\n",
    "df = pd.DataFrame(data, columns=[\"b\", \"ratios\"])\n",
    "df[\"a\"] = df.b * df.ratios\n",
    "df[\"h\"] = np.power((df.a-df.b), 2) / np.power((df.a+df.b), 2)\n",
    "df[\"e\"] = np.sqrt(np.power(df.a, 2) - np.power(df.b, 2)) / df.a"
   ]
  },
  {
   "cell_type": "code",
   "execution_count": 51,
   "metadata": {},
   "outputs": [],
   "source": [
    "class Ellipse:\n",
    "\n",
    "    def __init__(self, a, b):\n",
    "        self.a = a\n",
    "        self.b = b\n",
    "        self.h = self.calc_h()\n",
    "        self.e = self.calc_e()\n",
    "\n",
    "    def calc_h(self):\n",
    "        return np.power((self.a-self.b), 2) / np.power((self.a+self.b), 2)\n",
    "\n",
    "    def calc_e(self):\n",
    "        return np.sqrt(np.power(self.a, 2) - np.power(self.b, 2)) / self.a\n",
    "\n",
    "def euler_approx(x):\n",
    "    return np.pi * np.sqrt(2*(np.power(x.a, 2) + np.power(x.b, 2)))\n",
    "\n",
    "def ramanujan_I_approx(x):\n",
    "    return np.pi * (3*(x.a+x.b) - np.sqrt((3*x.a + x.b) * (x.a + 3*x.b)))\n",
    "\n",
    "def ramanujan_II_approx(x):\n",
    "    return np.pi * (x.a+x.b) * (1 + ((3*x.h) / (10 + np.sqrt(4 - (3*x.h)))))\n",
    "\n",
    "def inf_sum(x, n):\n",
    "    start = 2 * x.a * np.pi\n",
    "    summation = 0\n",
    "    for i in range(1, n+1):\n",
    "        f1 = f(2*i) ** 2 / ((2 ** i) * f(i)) ** 4\n",
    "        f2 = (x.e ** (2*i)) / ((2*i) - 1)\n",
    "        summation += f1 * f2\n",
    "    return start * (1 - summation)\n",
    "\n",
    "def error(exact, pred):\n",
    "    '''Calculates the percentage error'''\n",
    "    return np.abs(exact - pred) / exact"
   ]
  },
  {
   "cell_type": "code",
   "execution_count": 58,
   "metadata": {},
   "outputs": [],
   "source": [
    "df[\"exact_inf_sum\"] = df.pipe(inf_sum, n=100)\n",
    "df[\"exact_scipy\"] = 4 * df.a * ellipe(df.e)\n",
    "df[\"euler\"] = df.pipe(euler_approx)\n",
    "df[\"ramanujan_I\"] = df.pipe(ramanujan_I_approx)\n",
    "df[\"ramanujan_II\"] = df.pipe(ramanujan_II_approx)"
   ]
  },
  {
   "cell_type": "code",
   "execution_count": 59,
   "metadata": {},
   "outputs": [],
   "source": [
    "df[\"euler_error\"] = error(df.exact_inf_sum, df.euler)\n",
    "df[\"ramanujan_I_error\"] = error(df.exact_inf_sum, df.ramanujan_I)\n",
    "df[\"ramanujan_II_error\"] = error(df.exact_inf_sum, df.ramanujan_II)"
   ]
  },
  {
   "cell_type": "code",
   "execution_count": 60,
   "metadata": {},
   "outputs": [],
   "source": [
    "df.to_csv(\"answer.csv\", index=False)"
   ]
  },
  {
   "cell_type": "code",
   "execution_count": 61,
   "metadata": {},
   "outputs": [
    {
     "output_type": "execute_result",
     "data": {
      "text/plain": [
       "        b  ratios       a         h         e  exact_inf_sum  exact_scipy  \\\n",
       "0     1.0    1.00    1.00  0.000000  0.000000       6.283185     6.283185   \n",
       "1     1.0    1.45    1.45  0.033736  0.724138       7.761956     7.117225   \n",
       "2     1.0    1.90    1.90  0.096314  0.850289       9.331342     8.688197   \n",
       "3     1.0    2.35    2.35  0.162397  0.904943      10.956140    10.346595   \n",
       "4     1.0    2.80    2.80  0.224377  0.934050      12.617677    12.045187   \n",
       "..    ...     ...     ...       ...       ...            ...          ...   \n",
       "205  10.0    8.20   82.00  0.612476  0.992536     335.386043   332.091941   \n",
       "206  10.0    8.65   86.50  0.628446  0.993295     353.143858   349.939021   \n",
       "207  10.0    9.10   91.00  0.643172  0.993944     370.924244   367.798466   \n",
       "208  10.0    9.55   95.50  0.656791  0.994503     388.724750   385.668766   \n",
       "209  10.0   10.00  100.00  0.669421  0.994987     406.543262   403.548656   \n",
       "\n",
       "          euler  ramanujan_I  ramanujan_II  euler_error  ramanujan_I_error  \\\n",
       "0      6.283185     6.283185      6.283185     0.000000       0.000000e+00   \n",
       "1      7.825656     7.761955      7.761956     0.008207       7.596103e-08   \n",
       "2      9.539274     9.331325      9.331342     0.022283       1.812247e-06   \n",
       "3     11.346761    10.956043     10.956140     0.035653       8.934233e-06   \n",
       "4     13.209641    12.617371     12.617677     0.046915       2.423344e-05   \n",
       "..          ...          ...           ...          ...                ...   \n",
       "205  367.015478   335.119708    335.324645     0.094308       7.941148e-04   \n",
       "206  386.868991   352.828247    353.063904     0.095500       8.937178e-04   \n",
       "207  406.736166   370.555119    370.823170     0.096548       9.951491e-04   \n",
       "208  426.615096   388.298083    388.600103     0.097473       1.097606e-03   \n",
       "209  446.504209   406.055252    406.392721     0.098294       1.200389e-03   \n",
       "\n",
       "     ramanujan_II_error  \n",
       "0          0.000000e+00  \n",
       "1          1.049068e-12  \n",
       "2          2.181782e-10  \n",
       "3          3.295655e-09  \n",
       "4          1.853449e-08  \n",
       "..                  ...  \n",
       "205        1.830676e-04  \n",
       "206        2.264052e-04  \n",
       "207        2.724914e-04  \n",
       "208        3.206560e-04  \n",
       "209        3.702952e-04  \n",
       "\n",
       "[210 rows x 13 columns]"
      ],
      "text/html": "<div>\n<style scoped>\n    .dataframe tbody tr th:only-of-type {\n        vertical-align: middle;\n    }\n\n    .dataframe tbody tr th {\n        vertical-align: top;\n    }\n\n    .dataframe thead th {\n        text-align: right;\n    }\n</style>\n<table border=\"1\" class=\"dataframe\">\n  <thead>\n    <tr style=\"text-align: right;\">\n      <th></th>\n      <th>b</th>\n      <th>ratios</th>\n      <th>a</th>\n      <th>h</th>\n      <th>e</th>\n      <th>exact_inf_sum</th>\n      <th>exact_scipy</th>\n      <th>euler</th>\n      <th>ramanujan_I</th>\n      <th>ramanujan_II</th>\n      <th>euler_error</th>\n      <th>ramanujan_I_error</th>\n      <th>ramanujan_II_error</th>\n    </tr>\n  </thead>\n  <tbody>\n    <tr>\n      <th>0</th>\n      <td>1.0</td>\n      <td>1.00</td>\n      <td>1.00</td>\n      <td>0.000000</td>\n      <td>0.000000</td>\n      <td>6.283185</td>\n      <td>6.283185</td>\n      <td>6.283185</td>\n      <td>6.283185</td>\n      <td>6.283185</td>\n      <td>0.000000</td>\n      <td>0.000000e+00</td>\n      <td>0.000000e+00</td>\n    </tr>\n    <tr>\n      <th>1</th>\n      <td>1.0</td>\n      <td>1.45</td>\n      <td>1.45</td>\n      <td>0.033736</td>\n      <td>0.724138</td>\n      <td>7.761956</td>\n      <td>7.117225</td>\n      <td>7.825656</td>\n      <td>7.761955</td>\n      <td>7.761956</td>\n      <td>0.008207</td>\n      <td>7.596103e-08</td>\n      <td>1.049068e-12</td>\n    </tr>\n    <tr>\n      <th>2</th>\n      <td>1.0</td>\n      <td>1.90</td>\n      <td>1.90</td>\n      <td>0.096314</td>\n      <td>0.850289</td>\n      <td>9.331342</td>\n      <td>8.688197</td>\n      <td>9.539274</td>\n      <td>9.331325</td>\n      <td>9.331342</td>\n      <td>0.022283</td>\n      <td>1.812247e-06</td>\n      <td>2.181782e-10</td>\n    </tr>\n    <tr>\n      <th>3</th>\n      <td>1.0</td>\n      <td>2.35</td>\n      <td>2.35</td>\n      <td>0.162397</td>\n      <td>0.904943</td>\n      <td>10.956140</td>\n      <td>10.346595</td>\n      <td>11.346761</td>\n      <td>10.956043</td>\n      <td>10.956140</td>\n      <td>0.035653</td>\n      <td>8.934233e-06</td>\n      <td>3.295655e-09</td>\n    </tr>\n    <tr>\n      <th>4</th>\n      <td>1.0</td>\n      <td>2.80</td>\n      <td>2.80</td>\n      <td>0.224377</td>\n      <td>0.934050</td>\n      <td>12.617677</td>\n      <td>12.045187</td>\n      <td>13.209641</td>\n      <td>12.617371</td>\n      <td>12.617677</td>\n      <td>0.046915</td>\n      <td>2.423344e-05</td>\n      <td>1.853449e-08</td>\n    </tr>\n    <tr>\n      <th>...</th>\n      <td>...</td>\n      <td>...</td>\n      <td>...</td>\n      <td>...</td>\n      <td>...</td>\n      <td>...</td>\n      <td>...</td>\n      <td>...</td>\n      <td>...</td>\n      <td>...</td>\n      <td>...</td>\n      <td>...</td>\n      <td>...</td>\n    </tr>\n    <tr>\n      <th>205</th>\n      <td>10.0</td>\n      <td>8.20</td>\n      <td>82.00</td>\n      <td>0.612476</td>\n      <td>0.992536</td>\n      <td>335.386043</td>\n      <td>332.091941</td>\n      <td>367.015478</td>\n      <td>335.119708</td>\n      <td>335.324645</td>\n      <td>0.094308</td>\n      <td>7.941148e-04</td>\n      <td>1.830676e-04</td>\n    </tr>\n    <tr>\n      <th>206</th>\n      <td>10.0</td>\n      <td>8.65</td>\n      <td>86.50</td>\n      <td>0.628446</td>\n      <td>0.993295</td>\n      <td>353.143858</td>\n      <td>349.939021</td>\n      <td>386.868991</td>\n      <td>352.828247</td>\n      <td>353.063904</td>\n      <td>0.095500</td>\n      <td>8.937178e-04</td>\n      <td>2.264052e-04</td>\n    </tr>\n    <tr>\n      <th>207</th>\n      <td>10.0</td>\n      <td>9.10</td>\n      <td>91.00</td>\n      <td>0.643172</td>\n      <td>0.993944</td>\n      <td>370.924244</td>\n      <td>367.798466</td>\n      <td>406.736166</td>\n      <td>370.555119</td>\n      <td>370.823170</td>\n      <td>0.096548</td>\n      <td>9.951491e-04</td>\n      <td>2.724914e-04</td>\n    </tr>\n    <tr>\n      <th>208</th>\n      <td>10.0</td>\n      <td>9.55</td>\n      <td>95.50</td>\n      <td>0.656791</td>\n      <td>0.994503</td>\n      <td>388.724750</td>\n      <td>385.668766</td>\n      <td>426.615096</td>\n      <td>388.298083</td>\n      <td>388.600103</td>\n      <td>0.097473</td>\n      <td>1.097606e-03</td>\n      <td>3.206560e-04</td>\n    </tr>\n    <tr>\n      <th>209</th>\n      <td>10.0</td>\n      <td>10.00</td>\n      <td>100.00</td>\n      <td>0.669421</td>\n      <td>0.994987</td>\n      <td>406.543262</td>\n      <td>403.548656</td>\n      <td>446.504209</td>\n      <td>406.055252</td>\n      <td>406.392721</td>\n      <td>0.098294</td>\n      <td>1.200389e-03</td>\n      <td>3.702952e-04</td>\n    </tr>\n  </tbody>\n</table>\n<p>210 rows × 13 columns</p>\n</div>"
     },
     "metadata": {},
     "execution_count": 61
    }
   ],
   "source": [
    "df"
   ]
  },
  {
   "cell_type": "code",
   "execution_count": null,
   "metadata": {},
   "outputs": [],
   "source": []
  }
 ]
}